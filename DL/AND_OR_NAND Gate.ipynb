{
 "cells": [
  {
   "cell_type": "code",
   "execution_count": 8,
   "id": "7a8d8335-13be-4d72-a4cd-60aab910145c",
   "metadata": {},
   "outputs": [],
   "source": [
    "import numpy as np\n",
    "import matplotlib.pyplot as plt "
   ]
  },
  {
   "cell_type": "code",
   "execution_count": 9,
   "id": "cb5fe159-2c31-4715-a885-699b27613ea1",
   "metadata": {},
   "outputs": [],
   "source": [
    "X = np.array([[0,0], [0,1], [1,0], [1,1]]) \n",
    "w = np.array([-22.0,3.0])                   \n",
    "O = np.array([0,1,1,1])       # OR GATE O/P             \n",
    "A = np.array([0,0,0,1])       # AND GATE O/P    \n",
    "N = np.array([1,1,1,0])       # NAND GATE O/P    \n",
    "bias = -152                                "
   ]
  },
  {
   "cell_type": "code",
   "execution_count": 10,
   "id": "a261007e-399a-43b5-b7ff-e0f4701ba008",
   "metadata": {},
   "outputs": [],
   "source": [
    "def step_activationFunction(threshold):     \n",
    "    for i in range(0,len(Xw)):\n",
    "        if(Xw[i] <= threshold):\n",
    "            Xw[i] = 0\n",
    "        else:\n",
    "            Xw[i] = 1"
   ]
  },
  {
   "cell_type": "code",
   "execution_count": 11,
   "id": "254c56d1-7f09-4487-bdfc-070a17e0bd34",
   "metadata": {},
   "outputs": [],
   "source": [
    "def relu_activationFunction():    \n",
    "    for i in range(0,len(Xw)):\n",
    "        if(Xw[i] <= 0):\n",
    "            Xw[i] = 0"
   ]
  },
  {
   "cell_type": "code",
   "execution_count": 12,
   "id": "a1578f33-2321-4a04-9a5b-39f69446925c",
   "metadata": {},
   "outputs": [
    {
     "name": "stdout",
     "output_type": "stream",
     "text": [
      "FINAL WEIGHTS [48.5 61. ]\n",
      "FINAL BIAS -48.0\n",
      "WIGHTS AND BIAS CONVERGED IN  93 ITERATIONS\n"
     ]
    }
   ],
   "source": [
    "\n",
    "max_iterations = 5000\n",
    "count = 0\n",
    "while(True):\n",
    "    count +=1\n",
    "    if(count == max_iterations):\n",
    "        print(count,\"iterations finishied - can not converge\")\n",
    "        break\n",
    "    \n",
    "    Xw = np.dot(X,w)\n",
    "    Xw = np.add(Xw,bias)           \n",
    "    step_activationFunction(0)              \n",
    "    \n",
    "    loss_vec = np.subtract(O,Xw)   \n",
    "\n",
    "    if(np.any(loss_vec)):\n",
    "        for i in range(0,len(loss_vec)):\n",
    "            if (loss_vec[i] !=0):\n",
    "                change = 0.5 * (loss_vec[i]) * X[i][0]\n",
    "                w[0] += change\n",
    "    \n",
    "                change = 0.5 * (loss_vec[i]) * X[i][1]\n",
    "                w[1] += change\n",
    "    \n",
    "                change = 0.5 * (loss_vec[i])\n",
    "                bias += change\n",
    "\n",
    "    else:\n",
    "        print(\"FINAL WEIGHTS\",w)   \n",
    "        print(\"FINAL BIAS\",bias)   \n",
    "        print(\"WIGHTS AND BIAS CONVERGED IN \",count, \"ITERATIONS\")\n",
    "        break"
   ]
  },
  {
   "cell_type": "code",
   "execution_count": 13,
   "id": "aec94148",
   "metadata": {},
   "outputs": [
    {
     "name": "stdout",
     "output_type": "stream",
     "text": [
      "FINAL WEIGHTS [48.  54.5]\n",
      "FINAL BIAS -55.0\n",
      "WIGHTS AND BIAS CONVERGED IN  14 ITERATIONS\n"
     ]
    }
   ],
   "source": [
    "\n",
    "max_iterations = 5000\n",
    "count = 0\n",
    "while(True):\n",
    "    count +=1\n",
    "    if(count == max_iterations):\n",
    "        print(count,\"iterations finishied - can not converge\")\n",
    "        break\n",
    "    \n",
    "    Xw = np.dot(X,w)\n",
    "    Xw = np.add(Xw,bias)           \n",
    "    step_activationFunction(0)              \n",
    "    \n",
    "    loss_vecA = np.subtract(A,Xw)   \n",
    "\n",
    "    if(np.any(loss_vecA)):\n",
    "        for i in range(0,len(loss_vecA)):\n",
    "            if (loss_vecA[i] !=0):\n",
    "                change = 0.5 * (loss_vecA[i]) * X[i][0]\n",
    "                w[0] += change\n",
    "    \n",
    "                change = 0.5 * (loss_vecA[i]) * X[i][1]\n",
    "                w[1] += change\n",
    "    \n",
    "                change = 0.5 * (loss_vecA[i])\n",
    "                bias += change\n",
    "\n",
    "    else:\n",
    "        print(\"FINAL WEIGHTS\",w)   \n",
    "        print(\"FINAL BIAS\",bias)   \n",
    "        print(\"WIGHTS AND BIAS CONVERGED IN \",count, \"ITERATIONS\")\n",
    "        break"
   ]
  },
  {
   "cell_type": "code",
   "execution_count": 14,
   "id": "32bd8bee",
   "metadata": {},
   "outputs": [
    {
     "name": "stdout",
     "output_type": "stream",
     "text": [
      "FINAL WEIGHTS [-0.5 -0.5]\n",
      "FINAL BIAS 1.0\n",
      "WIGHTS AND BIAS CONVERGED IN  164 ITERATIONS\n"
     ]
    }
   ],
   "source": [
    "max_iterations = 5000\n",
    "count = 0\n",
    "while(True):\n",
    "    count +=1\n",
    "    if(count == max_iterations):\n",
    "        print(count,\"iterations finishied - can not converge\")\n",
    "        break\n",
    "    \n",
    "    Xw = np.dot(X,w)\n",
    "    Xw = np.add(Xw,bias)           \n",
    "    step_activationFunction(0)              \n",
    "    \n",
    "    loss_vecN = np.subtract(N,Xw)   \n",
    "\n",
    "    if(np.any(loss_vecN)):\n",
    "        for i in range(0,len(loss_vecN)):\n",
    "            if (loss_vecN[i] !=0):\n",
    "                change = 0.5 * (loss_vecN[i]) * X[i][0]\n",
    "                w[0] += change\n",
    "    \n",
    "                change = 0.5 * (loss_vecN[i]) * X[i][1]\n",
    "                w[1] += change\n",
    "    \n",
    "                change = 0.5 * (loss_vecN[i])\n",
    "                bias += change\n",
    "    else:\n",
    "        print(\"FINAL WEIGHTS\",w)   \n",
    "        print(\"FINAL BIAS\",bias)   \n",
    "        print(\"WIGHTS AND BIAS CONVERGED IN \",count, \"ITERATIONS\")\n",
    "        break"
   ]
  }
 ],
 "metadata": {
  "kernelspec": {
   "display_name": "Python 3",
   "language": "python",
   "name": "python3"
  },
  "language_info": {
   "codemirror_mode": {
    "name": "ipython",
    "version": 3
   },
   "file_extension": ".py",
   "mimetype": "text/x-python",
   "name": "python",
   "nbconvert_exporter": "python",
   "pygments_lexer": "ipython3",
   "version": "3.12.3"
  }
 },
 "nbformat": 4,
 "nbformat_minor": 5
}
