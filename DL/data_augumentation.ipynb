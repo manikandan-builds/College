{
  "cells": [
    {
      "cell_type": "code",
      "source": [
        "import tensorflow as tf\n",
        "import matplotlib.pyplot as plt\n",
        "import pathlib\n",
        "import numpy as np\n",
        "import cv2\n",
        "\n",
        "# Step 1: Load images from the folder\n",
        "data_dir = pathlib.Path(r\"/DOG\")  # Update with your actual path\n",
        "output_dir = data_dir / \"augmented\"  # Directory to save augmented images\n",
        "output_dir.mkdir(parents=True, exist_ok=True)  # Create if it doesn't exist\n",
        "\n",
        "dataset = tf.keras.preprocessing.image_dataset_from_directory(\n",
        "    data_dir,\n",
        "    label_mode=None,\n",
        "    image_size=(250, 250),\n",
        "    batch_size=1\n",
        ")\n",
        "\n",
        "# Step 2: Data Augmentation Pipeline\n",
        "data_augmentation = tf.keras.Sequential([\n",
        "    tf.keras.layers.RandomFlip(\"horizontal_and_vertical\"),\n",
        "    tf.keras.layers.RandomRotation(0.2),\n",
        "    tf.keras.layers.RandomZoom(0.2),\n",
        "    tf.keras.layers.RandomContrast(0.3),\n",
        "    tf.keras.layers.RandomTranslation(0.2, 0.2),\n",
        "    tf.keras.layers.RandomBrightness(0.2)\n",
        "])\n",
        "\n",
        "# Step 3: Manually Apply Augmentation and Save Images\n",
        "num_augmented_per_image = 5  # How many augmented images per input image\n",
        "\n",
        "for i, images in enumerate(dataset):\n",
        "    image = images[0].numpy().astype(\"uint8\")  # Convert to NumPy array\n",
        "    for j in range(num_augmented_per_image):\n",
        "        augmented_image = data_augmentation(tf.expand_dims(image, axis=0))  # Apply augmentation\n",
        "        augmented_image = augmented_image[0].numpy().astype(\"uint8\")  # Convert back to NumPy\n",
        "\n",
        "        # Save the augmented image\n",
        "        filename = f\"augmented_{i}_{j}.jpg\"\n",
        "        filepath = str(output_dir / filename)\n",
        "        cv2.imwrite(filepath, cv2.cvtColor(augmented_image, cv2.COLOR_RGB2BGR))  # Save as image\n",
        "\n",
        "        print(f\"Saved: {filepath}\")\n",
        "\n",
        "print(\"Augmentation and saving completed!\")\n"
      ],
      "metadata": {
        "colab": {
          "base_uri": "https://localhost:8080/"
        },
        "id": "Vh84w6Sgu7VF",
        "outputId": "b5ab6a26-1851-494f-d799-6d52cd59c512"
      },
      "execution_count": 9,
      "outputs": [
        {
          "output_type": "stream",
          "name": "stdout",
          "text": [
            "Found 2 files.\n",
            "Saved: /DOG/augmented/augmented_0_0.jpg\n",
            "Saved: /DOG/augmented/augmented_0_1.jpg\n",
            "Saved: /DOG/augmented/augmented_0_2.jpg\n",
            "Saved: /DOG/augmented/augmented_0_3.jpg\n",
            "Saved: /DOG/augmented/augmented_0_4.jpg\n",
            "Saved: /DOG/augmented/augmented_1_0.jpg\n",
            "Saved: /DOG/augmented/augmented_1_1.jpg\n",
            "Saved: /DOG/augmented/augmented_1_2.jpg\n",
            "Saved: /DOG/augmented/augmented_1_3.jpg\n",
            "Saved: /DOG/augmented/augmented_1_4.jpg\n",
            "Augmentation and saving completed!\n"
          ]
        }
      ]
    },
    {
      "cell_type": "code",
      "source": [],
      "metadata": {
        "id": "kfe9BMAYu7bl"
      },
      "execution_count": null,
      "outputs": []
    }
  ],
  "metadata": {
    "accelerator": "GPU",
    "colab": {
      "gpuType": "T4",
      "provenance": []
    },
    "kernelspec": {
      "display_name": "Python 3",
      "name": "python3"
    },
    "language_info": {
      "name": "python"
    }
  },
  "nbformat": 4,
  "nbformat_minor": 0
}